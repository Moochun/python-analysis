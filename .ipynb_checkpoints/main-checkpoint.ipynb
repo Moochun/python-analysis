{
 "cells": [
  {
   "cell_type": "markdown",
   "id": "d4254c19-9fdc-4032-854c-f1501a2e33c3",
   "metadata": {},
   "source": [
    "# Data load and clean "
   ]
  },
  {
   "cell_type": "code",
   "execution_count": 1,
   "id": "92375050-3626-454c-846d-2b99c84b2f63",
   "metadata": {},
   "outputs": [
    {
     "name": "stderr",
     "output_type": "stream",
     "text": [
      "C:\\Users\\i9h002\\anaconda3\\envs\\python_analysis\\lib\\site-packages\\tqdm\\auto.py:21: TqdmWarning: IProgress not found. Please update jupyter and ipywidgets. See https://ipywidgets.readthedocs.io/en/stable/user_install.html\n",
      "  from .autonotebook import tqdm as notebook_tqdm\n"
     ]
    }
   ],
   "source": [
    "import pandas as pd \n",
    "import plotly\n",
    "import sweetviz as sv\n",
    "from funcs import feature_engineer as fe"
   ]
  },
  {
   "cell_type": "code",
   "execution_count": 9,
   "id": "13abd8f1-e383-438c-890b-d65ebb30cff5",
   "metadata": {},
   "outputs": [],
   "source": [
    "\n",
    "df_data.groupby(\"ID\").agg()"
   ]
  },
  {
   "cell_type": "code",
   "execution_count": 16,
   "id": "ea8f27e2-0705-4211-ba10-fee859a9e8ae",
   "metadata": {},
   "outputs": [],
   "source": [
    "# 1. Load data \n",
    "df_data = pd.read_csv(\"data/uselog.csv\")\n",
    "\n",
    "\n",
    "# 2. Time clean # Missing eliminate\n",
    "df_data[\"timestamp\"] = pd.to_datetime(df_data[\"timestamps of usage\"])\n",
    "df_data = fe.crt_multiple_timestamp_columns(df_data, \"timestamp\")\n",
    "df_data =df_data.loc[~df_data[\"timestamp\"].isna(),]\n",
    "\n",
    "#3. User data create \n",
    "ufe = fe.UserFE(df_data)\n",
    "df_user = ufe.crt_user_features()\n",
    "\n",
    "# 3. Save result \n",
    "df_data.to_csv(\"data/uselog_fe.csv\")\n",
    "# del df_data[\"timestamps of usage\"]"
   ]
  },
  {
   "cell_type": "markdown",
   "id": "b17824c6-0982-4292-81af-9033af724fdf",
   "metadata": {},
   "source": [
    "# Data description & Basic EDA"
   ]
  },
  {
   "cell_type": "code",
   "execution_count": 17,
   "id": "90b66afa-9ef6-4db4-9e28-1ccf9624a842",
   "metadata": {},
   "outputs": [
    {
     "name": "stderr",
     "output_type": "stream",
     "text": [
      "Feature: is_weekend                          |█████████████████████████████████████████| [100%]   00:04 -> (00:00 left)\n"
     ]
    },
    {
     "name": "stdout",
     "output_type": "stream",
     "text": [
      "Report report/SweetvizBascInfo.html was generated! NOTEBOOK/COLAB USERS: the web browser MAY not pop up, regardless, the report IS saved in your notebook/colab files.\n"
     ]
    },
    {
     "name": "stderr",
     "output_type": "stream",
     "text": [
      "Feature: user type                           |█████████████████████████████████████████| [100%]   00:01 -> (00:00 left)"
     ]
    },
    {
     "name": "stdout",
     "output_type": "stream",
     "text": [
      "Report report/SweetvizUser.html was generated! NOTEBOOK/COLAB USERS: the web browser MAY not pop up, regardless, the report IS saved in your notebook/colab files.\n",
      "Users with multi user type : 42\n",
      "Timestamp Start : 2023-04-01 00:00:00, Timestamp End 2023-06-30 23:58:00\n"
     ]
    },
    {
     "name": "stderr",
     "output_type": "stream",
     "text": [
      "\n"
     ]
    }
   ],
   "source": [
    "# 1. Data description with sweetviz analysis to know the basic info \n",
    "# 1-1. Function usage event : 181,978 functions call\n",
    "report = sv.analyze(df_data, pairwise_analysis=\"off\")\n",
    "report.show_html('report/SweetvizBascInfo.html')\n",
    "\n",
    "# 1-2. User basic info : 237 people\n",
    "report_user = sv.analyze(df_user, pairwise_analysis=\"off\")\n",
    "report_user.show_html('report/SweetvizUser.html')\n",
    "user_multitype_num = (df_user[\"user type\"].str.len()>=2).sum()\n",
    "\n",
    "print(f\"Users with multi user type : {user_multitype_num}\")\n",
    "print(f\"Timestamp Start : {df_data['timestamp'].min()}, Timestamp End {df_data['timestamp'].max()}\")"
   ]
  },
  {
   "cell_type": "code",
   "execution_count": 7,
   "id": "11d290e0-384a-47d6-8332-be0f3724fa0e",
   "metadata": {},
   "outputs": [
    {
     "data": {
      "text/plain": [
       "0      1\n",
       "1      2\n",
       "2      2\n",
       "3      1\n",
       "4      2\n",
       "      ..\n",
       "232    1\n",
       "233    1\n",
       "234    1\n",
       "235    1\n",
       "236    2\n",
       "Name: user type, Length: 237, dtype: int64"
      ]
     },
     "execution_count": 7,
     "metadata": {},
     "output_type": "execute_result"
    }
   ],
   "source": [
    "df_user[\"user type\"].str.len()"
   ]
  }
 ],
 "metadata": {
  "kernelspec": {
   "display_name": "Python 3 (ipykernel)",
   "language": "python",
   "name": "python3"
  },
  "language_info": {
   "codemirror_mode": {
    "name": "ipython",
    "version": 3
   },
   "file_extension": ".py",
   "mimetype": "text/x-python",
   "name": "python",
   "nbconvert_exporter": "python",
   "pygments_lexer": "ipython3",
   "version": "3.10.14"
  }
 },
 "nbformat": 4,
 "nbformat_minor": 5
}
