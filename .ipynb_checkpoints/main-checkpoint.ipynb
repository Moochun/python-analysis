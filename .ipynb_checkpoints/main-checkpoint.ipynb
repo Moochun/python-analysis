{
 "cells": [
  {
   "cell_type": "markdown",
   "id": "d4254c19-9fdc-4032-854c-f1501a2e33c3",
   "metadata": {},
   "source": [
    "# Data load and clean "
   ]
  },
  {
   "cell_type": "code",
   "execution_count": 1,
   "id": "92375050-3626-454c-846d-2b99c84b2f63",
   "metadata": {},
   "outputs": [
    {
     "name": "stderr",
     "output_type": "stream",
     "text": [
      "C:\\Users\\i9h002\\anaconda3\\envs\\python_analysis\\lib\\site-packages\\tqdm\\auto.py:21: TqdmWarning: IProgress not found. Please update jupyter and ipywidgets. See https://ipywidgets.readthedocs.io/en/stable/user_install.html\n",
      "  from .autonotebook import tqdm as notebook_tqdm\n"
     ]
    }
   ],
   "source": [
    "import pandas as pd \n",
    "import plotly.graph_objs as go\n",
    "import plotly.express as px\n",
    "import sweetviz as sv\n",
    "from funcs import feature_engineer as fe"
   ]
  },
  {
   "cell_type": "code",
   "execution_count": 2,
   "id": "ea8f27e2-0705-4211-ba10-fee859a9e8ae",
   "metadata": {},
   "outputs": [],
   "source": [
    "# 1. Load data \n",
    "df_data = pd.read_csv(\"data/uselog.csv\")\n",
    "\n",
    "\n",
    "# 2. Time clean # Missing eliminate\n",
    "df_data[\"timestamp\"] = pd.to_datetime(df_data[\"timestamps of usage\"])\n",
    "df_data = fe.crt_multiple_timestamp_columns(df_data, \"timestamp\")\n",
    "df_data =df_data.loc[~df_data[\"timestamp\"].isna(),]\n",
    "\n",
    "#3. User data create \n",
    "ufe = fe.UserFE(df_data)\n",
    "df_user = ufe.crt_user_features()\n",
    "\n",
    "# 3. Save result \n",
    "df_data.to_csv(\"data/uselog_fe.csv\")\n",
    "# del df_data[\"timestamps of usage\"]"
   ]
  },
  {
   "cell_type": "markdown",
   "id": "b17824c6-0982-4292-81af-9033af724fdf",
   "metadata": {},
   "source": [
    "# Data description & Basic EDA"
   ]
  },
  {
   "cell_type": "code",
   "execution_count": 4,
   "id": "90b66afa-9ef6-4db4-9e28-1ccf9624a842",
   "metadata": {},
   "outputs": [
    {
     "name": "stderr",
     "output_type": "stream",
     "text": [
      "Feature: date                                |█████████████████████████████████████████| [100%]   00:04 -> (00:00 left)\n"
     ]
    },
    {
     "name": "stdout",
     "output_type": "stream",
     "text": [
      "Report report/SweetvizBascInfo.html was generated! NOTEBOOK/COLAB USERS: the web browser MAY not pop up, regardless, the report IS saved in your notebook/colab files.\n"
     ]
    },
    {
     "name": "stderr",
     "output_type": "stream",
     "text": [
      "Feature: DayUsageRatio                       |█████████████████████████████████████████| [100%]   00:04 -> (00:00 left)"
     ]
    },
    {
     "name": "stdout",
     "output_type": "stream",
     "text": [
      "Report report/SweetvizUser.html was generated! NOTEBOOK/COLAB USERS: the web browser MAY not pop up, regardless, the report IS saved in your notebook/colab files.\n",
      "Users with multi user type : 42\n",
      "Timestamp Start : 2023-04-01 00:00:00, Timestamp End 2023-06-30 23:58:00\n"
     ]
    },
    {
     "name": "stderr",
     "output_type": "stream",
     "text": [
      "\n"
     ]
    }
   ],
   "source": [
    "# 1. Data description with sweetviz analysis to know the basic info \n",
    "# 1-1. Function usage event : 181,978 functions call\n",
    "report = sv.analyze(df_data, pairwise_analysis=\"off\")\n",
    "report.show_html('report/SweetvizBascInfo.html')\n",
    "\n",
    "# 1-2. User basic info : 237 people\n",
    "report_user = sv.analyze(df_user, pairwise_analysis=\"off\")\n",
    "report_user.show_html('report/SweetvizUser.html')\n",
    "user_multitype_num = (df_user[\"user type\"].str.len()>=2).sum()\n",
    "\n",
    "print(f\"Users with multi user type : {user_multitype_num}\")\n",
    "print(f\"Timestamp Start : {df_data['timestamp'].min()}, Timestamp End {df_data['timestamp'].max()}\")"
   ]
  },
  {
   "cell_type": "code",
   "execution_count": 3,
   "id": "11d290e0-384a-47d6-8332-be0f3724fa0e",
   "metadata": {},
   "outputs": [
    {
     "data": {
      "text/html": [
       "<div>\n",
       "<style scoped>\n",
       "    .dataframe tbody tr th:only-of-type {\n",
       "        vertical-align: middle;\n",
       "    }\n",
       "\n",
       "    .dataframe tbody tr th {\n",
       "        vertical-align: top;\n",
       "    }\n",
       "\n",
       "    .dataframe thead th {\n",
       "        text-align: right;\n",
       "    }\n",
       "</style>\n",
       "<table border=\"1\" class=\"dataframe\">\n",
       "  <thead>\n",
       "    <tr style=\"text-align: right;\">\n",
       "      <th></th>\n",
       "      <th>ID</th>\n",
       "      <th>place of residence</th>\n",
       "      <th>user type</th>\n",
       "      <th>TotalUsage</th>\n",
       "      <th>Morning</th>\n",
       "      <th>Afternoon</th>\n",
       "      <th>Evening</th>\n",
       "      <th>Midnight</th>\n",
       "      <th>DayUsage</th>\n",
       "      <th>DayUsageRatio</th>\n",
       "    </tr>\n",
       "  </thead>\n",
       "  <tbody>\n",
       "    <tr>\n",
       "      <th>0</th>\n",
       "      <td>9343</td>\n",
       "      <td>P03</td>\n",
       "      <td>A</td>\n",
       "      <td>492</td>\n",
       "      <td>0.569106</td>\n",
       "      <td>0.302846</td>\n",
       "      <td>0.128049</td>\n",
       "      <td>0.000000</td>\n",
       "      <td>44</td>\n",
       "      <td>0.488889</td>\n",
       "    </tr>\n",
       "    <tr>\n",
       "      <th>1</th>\n",
       "      <td>24015</td>\n",
       "      <td>P05</td>\n",
       "      <td>AS</td>\n",
       "      <td>234</td>\n",
       "      <td>0.888889</td>\n",
       "      <td>0.089744</td>\n",
       "      <td>0.021368</td>\n",
       "      <td>0.000000</td>\n",
       "      <td>48</td>\n",
       "      <td>0.533333</td>\n",
       "    </tr>\n",
       "    <tr>\n",
       "      <th>2</th>\n",
       "      <td>2720</td>\n",
       "      <td>P01</td>\n",
       "      <td>AS</td>\n",
       "      <td>1549</td>\n",
       "      <td>0.191091</td>\n",
       "      <td>0.000000</td>\n",
       "      <td>0.540994</td>\n",
       "      <td>0.267915</td>\n",
       "      <td>64</td>\n",
       "      <td>0.711111</td>\n",
       "    </tr>\n",
       "    <tr>\n",
       "      <th>3</th>\n",
       "      <td>3891</td>\n",
       "      <td>P01</td>\n",
       "      <td>A</td>\n",
       "      <td>988</td>\n",
       "      <td>0.560729</td>\n",
       "      <td>0.260121</td>\n",
       "      <td>0.179150</td>\n",
       "      <td>0.000000</td>\n",
       "      <td>49</td>\n",
       "      <td>0.544444</td>\n",
       "    </tr>\n",
       "    <tr>\n",
       "      <th>4</th>\n",
       "      <td>6415</td>\n",
       "      <td>P02</td>\n",
       "      <td>AS</td>\n",
       "      <td>278</td>\n",
       "      <td>0.694245</td>\n",
       "      <td>0.223022</td>\n",
       "      <td>0.082734</td>\n",
       "      <td>0.000000</td>\n",
       "      <td>51</td>\n",
       "      <td>0.566667</td>\n",
       "    </tr>\n",
       "    <tr>\n",
       "      <th>...</th>\n",
       "      <td>...</td>\n",
       "      <td>...</td>\n",
       "      <td>...</td>\n",
       "      <td>...</td>\n",
       "      <td>...</td>\n",
       "      <td>...</td>\n",
       "      <td>...</td>\n",
       "      <td>...</td>\n",
       "      <td>...</td>\n",
       "      <td>...</td>\n",
       "    </tr>\n",
       "    <tr>\n",
       "      <th>217</th>\n",
       "      <td>18460</td>\n",
       "      <td>P01</td>\n",
       "      <td>L</td>\n",
       "      <td>14</td>\n",
       "      <td>0.000000</td>\n",
       "      <td>0.000000</td>\n",
       "      <td>0.571429</td>\n",
       "      <td>0.428571</td>\n",
       "      <td>7</td>\n",
       "      <td>0.077778</td>\n",
       "    </tr>\n",
       "    <tr>\n",
       "      <th>218</th>\n",
       "      <td>22504</td>\n",
       "      <td>P02</td>\n",
       "      <td>A</td>\n",
       "      <td>9</td>\n",
       "      <td>0.000000</td>\n",
       "      <td>0.000000</td>\n",
       "      <td>0.777778</td>\n",
       "      <td>0.222222</td>\n",
       "      <td>8</td>\n",
       "      <td>0.088889</td>\n",
       "    </tr>\n",
       "    <tr>\n",
       "      <th>219</th>\n",
       "      <td>4958</td>\n",
       "      <td>P02</td>\n",
       "      <td>S</td>\n",
       "      <td>16</td>\n",
       "      <td>0.375000</td>\n",
       "      <td>0.625000</td>\n",
       "      <td>0.000000</td>\n",
       "      <td>0.000000</td>\n",
       "      <td>15</td>\n",
       "      <td>0.166667</td>\n",
       "    </tr>\n",
       "    <tr>\n",
       "      <th>220</th>\n",
       "      <td>8535</td>\n",
       "      <td>P03</td>\n",
       "      <td>A</td>\n",
       "      <td>19</td>\n",
       "      <td>0.947368</td>\n",
       "      <td>0.052632</td>\n",
       "      <td>0.000000</td>\n",
       "      <td>0.000000</td>\n",
       "      <td>1</td>\n",
       "      <td>0.011111</td>\n",
       "    </tr>\n",
       "    <tr>\n",
       "      <th>221</th>\n",
       "      <td>5474</td>\n",
       "      <td>P02</td>\n",
       "      <td>AS</td>\n",
       "      <td>807</td>\n",
       "      <td>0.451053</td>\n",
       "      <td>0.411400</td>\n",
       "      <td>0.137546</td>\n",
       "      <td>0.000000</td>\n",
       "      <td>44</td>\n",
       "      <td>0.488889</td>\n",
       "    </tr>\n",
       "  </tbody>\n",
       "</table>\n",
       "<p>222 rows × 10 columns</p>\n",
       "</div>"
      ],
      "text/plain": [
       "        ID place of residence user type  TotalUsage   Morning  Afternoon  \\\n",
       "0     9343                P03         A         492  0.569106   0.302846   \n",
       "1    24015                P05        AS         234  0.888889   0.089744   \n",
       "2     2720                P01        AS        1549  0.191091   0.000000   \n",
       "3     3891                P01         A         988  0.560729   0.260121   \n",
       "4     6415                P02        AS         278  0.694245   0.223022   \n",
       "..     ...                ...       ...         ...       ...        ...   \n",
       "217  18460                P01         L          14  0.000000   0.000000   \n",
       "218  22504                P02         A           9  0.000000   0.000000   \n",
       "219   4958                P02         S          16  0.375000   0.625000   \n",
       "220   8535                P03         A          19  0.947368   0.052632   \n",
       "221   5474                P02        AS         807  0.451053   0.411400   \n",
       "\n",
       "      Evening  Midnight  DayUsage  DayUsageRatio  \n",
       "0    0.128049  0.000000        44       0.488889  \n",
       "1    0.021368  0.000000        48       0.533333  \n",
       "2    0.540994  0.267915        64       0.711111  \n",
       "3    0.179150  0.000000        49       0.544444  \n",
       "4    0.082734  0.000000        51       0.566667  \n",
       "..        ...       ...       ...            ...  \n",
       "217  0.571429  0.428571         7       0.077778  \n",
       "218  0.777778  0.222222         8       0.088889  \n",
       "219  0.000000  0.000000        15       0.166667  \n",
       "220  0.000000  0.000000         1       0.011111  \n",
       "221  0.137546  0.000000        44       0.488889  \n",
       "\n",
       "[222 rows x 10 columns]"
      ]
     },
     "execution_count": 3,
     "metadata": {},
     "output_type": "execute_result"
    }
   ],
   "source": [
    "df_user"
   ]
  },
  {
   "cell_type": "markdown",
   "id": "369ad5c9-dc5e-4b9a-99a5-177b92897ac6",
   "metadata": {},
   "source": [
    "# 繪圖區"
   ]
  },
  {
   "cell_type": "code",
   "execution_count": null,
   "id": "dcc6e48c-586f-4670-ad87-8fbd4c9c95b1",
   "metadata": {},
   "outputs": [],
   "source": [
    "# 創建圖形\n",
    "fig = go.Figure()\n",
    "fig = px.histogram(df_proportions, x='Afternoon', nbins=10, title='Histogram of Values')\n",
    "fig.show()"
   ]
  }
 ],
 "metadata": {
  "kernelspec": {
   "display_name": "Python 3 (ipykernel)",
   "language": "python",
   "name": "python3"
  },
  "language_info": {
   "codemirror_mode": {
    "name": "ipython",
    "version": 3
   },
   "file_extension": ".py",
   "mimetype": "text/x-python",
   "name": "python",
   "nbconvert_exporter": "python",
   "pygments_lexer": "ipython3",
   "version": "3.10.14"
  }
 },
 "nbformat": 4,
 "nbformat_minor": 5
}
