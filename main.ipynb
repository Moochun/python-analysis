{
 "cells": [
  {
   "cell_type": "markdown",
   "id": "d4254c19-9fdc-4032-854c-f1501a2e33c3",
   "metadata": {},
   "source": [
    "# Data load and clean "
   ]
  },
  {
   "cell_type": "code",
   "execution_count": 1,
   "id": "92375050-3626-454c-846d-2b99c84b2f63",
   "metadata": {},
   "outputs": [
    {
     "name": "stderr",
     "output_type": "stream",
     "text": [
      "c:\\Users\\i9h002\\anaconda3\\envs\\python_analysis\\lib\\site-packages\\tqdm\\auto.py:21: TqdmWarning: IProgress not found. Please update jupyter and ipywidgets. See https://ipywidgets.readthedocs.io/en/stable/user_install.html\n",
      "  from .autonotebook import tqdm as notebook_tqdm\n"
     ]
    }
   ],
   "source": [
    "import pandas as pd \n",
    "import numpy as np\n",
    "import plotly.graph_objs as go\n",
    "import plotly.express as px\n",
    "import sweetviz as sv\n",
    "from sklearn.cluster import KMeans\n",
    "from sklearn.cluster import DBSCAN\n",
    "import seaborn as sns\n",
    "import matplotlib.pyplot as plt\n",
    "from funcs import feature_engineer as fe"
   ]
  },
  {
   "cell_type": "code",
   "execution_count": 2,
   "id": "ea8f27e2-0705-4211-ba10-fee859a9e8ae",
   "metadata": {},
   "outputs": [
    {
     "name": "stderr",
     "output_type": "stream",
     "text": [
      "c:\\Users\\i9h002\\anaconda3_work\\python-analysis\\funcs\\feature_engineer.py:179: FutureWarning: A value is trying to be set on a copy of a DataFrame or Series through chained assignment using an inplace method.\n",
      "The behavior will change in pandas 3.0. This inplace method will never work because the intermediate object on which we are setting values always behaves as a copy.\n",
      "\n",
      "For example, when doing 'df[col].method(value, inplace=True)', try using 'df.method({col: value}, inplace=True)' or df[col] = df[col].method(value) instead, to perform the operation inplace on the original object.\n",
      "\n",
      "\n",
      "  df_growth[0].replace([np.inf, -np.inf, np.nan], -1, inplace=True) # 將divide 0 的 Inf 設定成-1\n",
      "c:\\Users\\i9h002\\anaconda3_work\\python-analysis\\funcs\\feature_engineer.py:179: FutureWarning: A value is trying to be set on a copy of a DataFrame or Series through chained assignment using an inplace method.\n",
      "The behavior will change in pandas 3.0. This inplace method will never work because the intermediate object on which we are setting values always behaves as a copy.\n",
      "\n",
      "For example, when doing 'df[col].method(value, inplace=True)', try using 'df.method({col: value}, inplace=True)' or df[col] = df[col].method(value) instead, to perform the operation inplace on the original object.\n",
      "\n",
      "\n",
      "  df_growth[0].replace([np.inf, -np.inf, np.nan], -1, inplace=True) # 將divide 0 的 Inf 設定成-1\n",
      "c:\\Users\\i9h002\\anaconda3_work\\python-analysis\\funcs\\feature_engineer.py:179: FutureWarning: A value is trying to be set on a copy of a DataFrame or Series through chained assignment using an inplace method.\n",
      "The behavior will change in pandas 3.0. This inplace method will never work because the intermediate object on which we are setting values always behaves as a copy.\n",
      "\n",
      "For example, when doing 'df[col].method(value, inplace=True)', try using 'df.method({col: value}, inplace=True)' or df[col] = df[col].method(value) instead, to perform the operation inplace on the original object.\n",
      "\n",
      "\n",
      "  df_growth[0].replace([np.inf, -np.inf, np.nan], -1, inplace=True) # 將divide 0 的 Inf 設定成-1\n"
     ]
    }
   ],
   "source": [
    "# 1. Load data \n",
    "df_data = pd.read_csv(\"data/uselog.csv\")\n",
    "\n",
    "\n",
    "# 2. Time clean # Missing eliminate\n",
    "df_data[\"timestamp\"] = pd.to_datetime(df_data[\"timestamps of usage\"])\n",
    "df_data = fe.crt_multiple_timestamp_columns(df_data, \"timestamp\")\n",
    "df_data =df_data.loc[~df_data[\"timestamp\"].isna(),]\n",
    "\n",
    "#3. User data create \n",
    "ufe = fe.UserFE(df_data)\n",
    "df_user = ufe.crt_user_features()\n",
    "\n",
    "# 3. Save result \n",
    "df_data.to_csv(\"data/uselog_fe.csv\")\n",
    "# del df_data[\"timestamps of usage\"]"
   ]
  },
  {
   "cell_type": "markdown",
   "id": "b17824c6-0982-4292-81af-9033af724fdf",
   "metadata": {},
   "source": [
    "# Data description & Basic EDA"
   ]
  },
  {
   "cell_type": "code",
   "execution_count": 3,
   "id": "90b66afa-9ef6-4db4-9e28-1ccf9624a842",
   "metadata": {},
   "outputs": [
    {
     "name": "stderr",
     "output_type": "stream",
     "text": [
      "Feature: date                                |██████████| [100%]   00:06 -> (00:00 left)\n"
     ]
    },
    {
     "name": "stdout",
     "output_type": "stream",
     "text": [
      "Report report/SweetvizBascInfo.html was generated! NOTEBOOK/COLAB USERS: the web browser MAY not pop up, regardless, the report IS saved in your notebook/colab files.\n"
     ]
    },
    {
     "name": "stderr",
     "output_type": "stream",
     "text": [
      "Feature: growth_label_4_6                    |██████████| [100%]   00:14 -> (00:00 left)\n"
     ]
    },
    {
     "name": "stdout",
     "output_type": "stream",
     "text": [
      "Report report/SweetvizUser.html was generated! NOTEBOOK/COLAB USERS: the web browser MAY not pop up, regardless, the report IS saved in your notebook/colab files.\n",
      "Users with multi user type : 42\n",
      "Timestamp Start : 2023-04-01 00:00:00, Timestamp End 2023-06-30 23:58:00\n"
     ]
    }
   ],
   "source": [
    "# 1. Data description with sweetviz analysis to know the basic info \n",
    "# 1-1. Function usage event : 181,978 functions call\n",
    "report = sv.analyze(df_data, pairwise_analysis=\"off\")\n",
    "report.show_html('report/SweetvizBascInfo.html')\n",
    "\n",
    "# 1-2. User basic info : 237 people\n",
    "report_user = sv.analyze(df_user, pairwise_analysis=\"off\")\n",
    "report_user.show_html('report/SweetvizUser.html')\n",
    "user_multitype_num = (df_user[\"user type\"].str.len()>=2).sum()\n",
    "\n",
    "print(f\"Users with multi user type : {user_multitype_num}\")\n",
    "print(f\"Timestamp Start : {df_data['timestamp'].min()}, Timestamp End {df_data['timestamp'].max()}\")"
   ]
  },
  {
   "cell_type": "code",
   "execution_count": 70,
   "id": "ed14ad23-d2dc-4fa5-9b16-a4edeb690427",
   "metadata": {},
   "outputs": [],
   "source": [
    "# 2.Histogram 繪製每日的使用量\n",
    "df_data[\"date\"] = df_data[\"timestamp\"].dt.date\n",
    "fig = go.Figure()\n",
    "fig = px.histogram(df_data, x='date', nbins=len(df_data['date'].unique()), title='Histogram of Date', histfunc='count')\n",
    "fig.update_layout(\n",
    "    xaxis_title='Date',\n",
    "    yaxis_title='Count',\n",
    "    bargap=0.1,\n",
    "    xaxis_range=[df_data[\"date\"].min(), df_data[\"date\"].max()]\n",
    ")\n",
    "fig.show()"
   ]
  },
  {
   "cell_type": "markdown",
   "id": "ec3ba688-7738-4ba3-b7c4-8ca17104e720",
   "metadata": {},
   "source": [
    "# Customer segment "
   ]
  },
  {
   "cell_type": "markdown",
   "id": "5c60f984-24e5-4abb-a5c6-e69a964bebc3",
   "metadata": {},
   "source": [
    "## 黏著度 + 使用特徵數量"
   ]
  },
  {
   "cell_type": "code",
   "execution_count": 71,
   "id": "794c0b18-548b-4cb9-b359-56df7940307f",
   "metadata": {},
   "outputs": [],
   "source": [
    "# 0. 抓取對應的Attributes\n",
    "df_user[\"CustomerStickness\"]=df_user[\"DayUsageRatio\"]\n",
    "df_user[\"FunctionUsageBreadth\"]=df_user[\"FunctionUsageBreadth\"]\n",
    "col_b = \"FunctionUsageBreadth\"\n",
    "# 1. 繪製散點圖\n",
    "fig = px.scatter(\n",
    "    df_user, x='CustomerStickness', y=col_b, \n",
    "    title='Customer Stickiness vs Function Usage Breadth',\n",
    "    labels={'CustomerStickness': 'Customer Stickiness', col_b: 'Function Usage Breadth'},\n",
    "    color_discrete_sequence=['deepskyblue'],  \n",
    "    hover_data={'ID': True, 'CustomerStickness': True, col_b: True} # 設置 hover 可以顯示ID名稱\n",
    ")\n",
    "\n",
    "fig.update_layout(\n",
    "    xaxis_title='Customer Stickiness',\n",
    "    yaxis_title='Function Usage Breadth'\n",
    ")\n",
    "\n",
    "# 2. 中位數線\n",
    "median_customer_stickness = df_user['CustomerStickness'].median()\n",
    "median_function_usage_breadth = df_user[col_b].median()\n",
    "fig.add_shape(type='line', x0=median_customer_stickness, y0=df_user[col_b].min(),\n",
    "              x1=median_customer_stickness, y1=df_user[col_b].max(),\n",
    "              line=dict(color='gray', width=2))\n",
    "\n",
    "fig.add_shape(type='line', x0=df_user['CustomerStickness'].min(), y0=median_function_usage_breadth,\n",
    "              x1=df_user['CustomerStickness'].max(), y1=median_function_usage_breadth,\n",
    "              line=dict(color='gray', width=2))\n",
    "\n",
    "fig.show()"
   ]
  },
  {
   "cell_type": "markdown",
   "id": "9a3f6427-c247-4fe3-aac4-a79170a3f804",
   "metadata": {},
   "source": [
    "## 黏著度+使用function"
   ]
  },
  {
   "cell_type": "markdown",
   "id": "f4cc516a-17eb-4d55-b385-d7c59ab2e442",
   "metadata": {},
   "source": [
    "### Kmeans"
   ]
  },
  {
   "cell_type": "code",
   "execution_count": 72,
   "id": "30f73a21-d592-456f-ba5b-d004ab281f5f",
   "metadata": {},
   "outputs": [],
   "source": [
    "#2. Kmeans 分群\n",
    "df_user[\"CustomerStickness\"]=df_user[\"DayUsageRatio\"]\n",
    "col_a = \"CustomerStickness\"\n",
    "col_b = \"TotalUsage\"\n",
    "col_b_ratio = col_b+\"_ratio\"\n",
    "df_user[col_b_ratio]=df_user[col_b]/max(df_user[col_b])\n",
    "\n",
    "kmeans = KMeans(n_clusters=5, random_state=0)\n",
    "df_user['cluster'] = kmeans.fit_predict(df_user[[col_a, col_b_ratio]])\n",
    "\n",
    "# Plot the result, by coloring the label\n",
    "sns.scatterplot(data=df_user, x=col_a, y=col_b_ratio, hue='cluster', palette='viridis')\n",
    "plt.title('K-means Clustering')\n",
    "plt.xlabel(col_a)\n",
    "plt.ylabel(col_b_ratio)\n",
    "plt.show()"
   ]
  },
  {
   "cell_type": "markdown",
   "id": "27806fd3-d660-4551-81aa-b5110038d985",
   "metadata": {},
   "source": [
    "### 一般的散佈圖"
   ]
  },
  {
   "cell_type": "code",
   "execution_count": 73,
   "id": "81c647e8-fe4d-4c0d-bc72-cc77ac6dd6b8",
   "metadata": {},
   "outputs": [],
   "source": [
    "# 0. 抓取對應的Attributes\n",
    "df_user[\"CustomerStickness\"]=df_user[\"DayUsageRatio\"]\n",
    "col_a = \"CustomerStickness\"\n",
    "col_b = \"TotalUsage\"\n",
    "# 1. 繪製散點圖\n",
    "fig = px.scatter(\n",
    "    df_user, x=col_a, y=col_b, \n",
    "    title=f'{col_a} vs {col_b}',\n",
    "    labels={col_a: col_a, col_b: col_b},\n",
    "    color_discrete_sequence=['deepskyblue'],  \n",
    "    # color='cluster',\n",
    "    hover_data={'ID': True, col_a: True, col_b: True} # 設置 hover 可以顯示ID名稱\n",
    ")\n",
    "\n",
    "fig.update_layout(\n",
    "    xaxis_title=col_a,\n",
    "    yaxis_title=col_b\n",
    ")\n",
    "\n",
    "# 2. 中位數線\n",
    "median_cola= df_user[col_a].median()\n",
    "median_colb = df_user[col_b].median()\n",
    "print(f\"{col_a}Median : {median_cola}\")\n",
    "print(f\"{col_b}Median : {median_colb}\")\n",
    "\n",
    "fig.add_shape(type='line', x0=median_cola, y0=df_user[col_b].min(),\n",
    "              x1=median_cola, y1=df_user[col_b].max(),\n",
    "              line=dict(color='gray', width=2))\n",
    "\n",
    "fig.add_shape(type='line', x0=df_user[col_a].min(), y0=median_colb,\n",
    "              x1=df_user[col_a].max(), y1=median_colb,\n",
    "              line=dict(color='gray', width=2))\n",
    "\n",
    "fig.show()\n",
    "\n",
    "#3. 標註各群體的標籤\n",
    "df_user[\"group\"] = np.select(\n",
    "    [\n",
    "        (df_user[col_a]<= median_cola) & (df_user[col_b]<= median_colb),\n",
    "        (df_user[col_a]<= median_cola) & (df_user[col_b]> median_colb),\n",
    "        (df_user[col_a]> median_cola) & (df_user[col_b]> median_colb),\n",
    "        (df_user[col_a]> median_cola) & (df_user[col_b]<= median_colb)\n",
    "    ],\n",
    "    [\n",
    "        1,2,3,4\n",
    "    ]\n",
    ")\n",
    "print(df_user[\"group\"].value_counts())"
   ]
  },
  {
   "cell_type": "markdown",
   "id": "a112d51b-3c6a-4617-881f-9ccb7b71f5ea",
   "metadata": {},
   "source": [
    "### Cluster上色後的散佈圖"
   ]
  },
  {
   "cell_type": "code",
   "execution_count": 74,
   "id": "da038559-01e1-4b6a-a5ba-91638931e5c2",
   "metadata": {},
   "outputs": [],
   "source": [
    "# 0. 抓取對應的Attributes\n",
    "df_user[\"CustomerStickness\"]=df_user[\"DayUsageRatio\"]\n",
    "col_a = \"CustomerStickness\"\n",
    "col_b = \"TotalUsage\"\n",
    "# 1. 繪製散點圖\n",
    "fig = px.scatter(\n",
    "    df_user, x=col_a, y=col_b, \n",
    "    title=f'{col_a} vs {col_b}',\n",
    "    labels={col_a: col_a, col_b: col_b},\n",
    "    # color_discrete_sequence=['deepskyblue'],  \n",
    "    color='cluster',\n",
    "    hover_data={'ID': True, col_a: True, col_b: True} # 設置 hover 可以顯示ID名稱\n",
    ")\n",
    "\n",
    "fig.update_layout(\n",
    "    xaxis_title=col_a,\n",
    "    yaxis_title=col_b\n",
    ")\n",
    "\n",
    "# 2. 中位數線\n",
    "median_cola= df_user[col_a].median()\n",
    "median_colb = df_user[col_b].median()\n",
    "print(f\"{col_a}Median : {median_cola}\")\n",
    "print(f\"{col_b}Median : {median_colb}\")\n",
    "\n",
    "fig.add_shape(type='line', x0=median_cola, y0=df_user[col_b].min(),\n",
    "              x1=median_cola, y1=df_user[col_b].max(),\n",
    "              line=dict(color='gray', width=2))\n",
    "\n",
    "fig.add_shape(type='line', x0=df_user[col_a].min(), y0=median_colb,\n",
    "              x1=df_user[col_a].max(), y1=median_colb,\n",
    "              line=dict(color='gray', width=2))\n",
    "\n",
    "fig.show()\n",
    "\n",
    "#3. 標註各群體的標籤\n",
    "df_user[\"group\"] = np.select(\n",
    "    [\n",
    "        (df_user[col_a]<= median_cola) & (df_user[col_b]<= median_colb),\n",
    "        (df_user[col_a]<= median_cola) & (df_user[col_b]> median_colb),\n",
    "        (df_user[col_a]> median_cola) & (df_user[col_b]> median_colb),\n",
    "        (df_user[col_a]> median_cola) & (df_user[col_b]<= median_colb)\n",
    "    ],\n",
    "    [\n",
    "        1,2,3,4\n",
    "    ]\n",
    ")\n",
    "print(df_user[\"cluster\"].value_counts())"
   ]
  },
  {
   "cell_type": "markdown",
   "id": "9ddb90f1-e984-43ca-90ca-ee0d9bb22d4f",
   "metadata": {},
   "source": [
    "### Infrequent User"
   ]
  },
  {
   "cell_type": "code",
   "execution_count": 51,
   "id": "25986808-02e8-4e65-ba7f-41995279291b",
   "metadata": {},
   "outputs": [
    {
     "name": "stderr",
     "output_type": "stream",
     "text": [
      "Feature: date                                |█████████████████████████████████████████| [100%]   00:08 -> (00:00 left)\n"
     ]
    },
    {
     "name": "stdout",
     "output_type": "stream",
     "text": [
      "Report report/SweetvizUserInfrequent_functions.html was generated! NOTEBOOK/COLAB USERS: the web browser MAY not pop up, regardless, the report IS saved in your notebook/colab files.\n"
     ]
    },
    {
     "name": "stderr",
     "output_type": "stream",
     "text": [
      "Feature: group                               |█████████████████████████████████████████| [100%]   00:09 -> (00:00 left)"
     ]
    },
    {
     "name": "stdout",
     "output_type": "stream",
     "text": [
      "Report report/SweetvizUserInfrequent.html was generated! NOTEBOOK/COLAB USERS: the web browser MAY not pop up, regardless, the report IS saved in your notebook/colab files.\n"
     ]
    },
    {
     "name": "stderr",
     "output_type": "stream",
     "text": [
      "\n"
     ]
    }
   ],
   "source": [
    "# Function calling compare \n",
    "report_infrquent_function= sv.compare(\n",
    "    [df_data, \"All user\"], \n",
    "    [df_data[df_data.ID.isin(df_user.ID[df_user[\"cluster\"]==0])], \"Infrequent user\"], \n",
    "    pairwise_analysis=\"off\"\n",
    ")\n",
    "report_infrquent_function.show_html('report/SweetvizUserInfrequent_functions.html')\n",
    "\n",
    "# User compare\n",
    "report_infrquent= sv.compare(\n",
    "    [df_user, \"All user\"], \n",
    "    [df_user[df_user[\"cluster\"]==0], \"Infrequent user\"], \n",
    "    pairwise_analysis=\"off\"\n",
    ")\n",
    "report_infrquent.show_html('report/SweetvizUserInfrequent.html')"
   ]
  },
  {
   "cell_type": "markdown",
   "id": "a6ed6a96-275d-4679-a8a9-59a8720d8aa4",
   "metadata": {},
   "source": [
    "# Function Usage"
   ]
  },
  {
   "cell_type": "markdown",
   "id": "dfa32246-4c5e-4147-bd3a-048970d6b460",
   "metadata": {},
   "source": [
    "## Function 被呼叫數量直方圖"
   ]
  },
  {
   "cell_type": "code",
   "execution_count": 75,
   "id": "22353ec7-694f-4163-bf96-4c7f7b31bb6e",
   "metadata": {},
   "outputs": [],
   "source": [
    "# 1. 繪製使用量, 抓出使用量最低的functions\n",
    "# 排序結果\n",
    "col_x = \"function\"\n",
    "category_counts = df_data[col_x].value_counts().reset_index()\n",
    "category_counts.columns = [col_x, 'Count']\n",
    "category_counts = category_counts.sort_values(by='Count', ascending=False)\n",
    "df_data[col_x] = pd.Categorical(df_data[col_x], categories=category_counts[col_x], ordered=True)\n",
    "\n",
    "# 創建圖形\n",
    "fig = go.Figure()\n",
    "fig = px.histogram(df_data, x=col_x, category_orders={col_x: category_counts[col_x]},\n",
    "                   title='Histogram Sorted by Count',\n",
    "                   labels={col_x: col_x, 'count': 'Count'})\n",
    "fig.update_layout(\n",
    "    xaxis_title=col_x,\n",
    "    yaxis_title='Count',\n",
    "    bargap=0.1\n",
    ")\n",
    "fig.show()"
   ]
  },
  {
   "cell_type": "markdown",
   "id": "ca94e7c8-2a14-452d-8155-d54106e5d127",
   "metadata": {},
   "source": [
    "## Function user數量直方圖"
   ]
  },
  {
   "cell_type": "code",
   "execution_count": 76,
   "id": "f3fe568b-8f27-4d85-b529-554bbbe0d997",
   "metadata": {},
   "outputs": [],
   "source": [
    "# 2. 繪製使用量, 抓出使用人最少的functions\n",
    "# 排序結果\n",
    "col_x = \"function\"\n",
    "category_users = df_data.groupby(col_x).agg(UserCounts=(\"ID\", \"nunique\")).reset_index()\n",
    "category_users.columns = [col_x, 'UserCounts']\n",
    "category_users = category_users.sort_values(by='UserCounts', ascending=False)\n",
    "df_data[col_x] = pd.Categorical(df_data[col_x], categories=category_users[col_x], ordered=True)\n",
    "\n",
    "# 創建圖形\n",
    "fig = go.Figure()\n",
    "fig = px.bar(category_users, x=col_x,  y='UserCounts', \n",
    "             title='Unique ID Count per Function',\n",
    "             labels={'Function': 'Function', 'UserCounts': 'UserCounts'})\n",
    "fig.update_layout(\n",
    "    xaxis_title=col_x,\n",
    "    yaxis_title='UserCounts',\n",
    "    bargap=0.1\n",
    ")\n",
    "fig.show()"
   ]
  },
  {
   "cell_type": "markdown",
   "id": "369ad5c9-dc5e-4b9a-99a5-177b92897ac6",
   "metadata": {},
   "source": [
    "# 繪圖區"
   ]
  },
  {
   "cell_type": "code",
   "execution_count": null,
   "id": "dcc6e48c-586f-4670-ad87-8fbd4c9c95b1",
   "metadata": {},
   "outputs": [],
   "source": [
    "# 創建圖形\n",
    "fig = go.Figure()\n",
    "fig = px.histogram(df_proportions, x='Afternoon', nbins=10, title='Histogram of Values')\n",
    "fig.show()"
   ]
  },
  {
   "cell_type": "code",
   "execution_count": 77,
   "id": "0d5fe7a5-c43c-4b45-8ecf-08ab6e880fa6",
   "metadata": {},
   "outputs": [],
   "source": [
    "# 創建圖形\n",
    "df_data[\"date\"] = df_data[\"timestamp\"].dt.date\n",
    "fig = go.Figure()\n",
    "fig = px.histogram(df_data, x='date', nbins=len(df_data['date'].unique()), title='Histogram of Date', histfunc='count')\n",
    "fig.update_layout(\n",
    "    xaxis_title='Date',\n",
    "    yaxis_title='Count',\n",
    "    bargap=0.1,\n",
    "    xaxis_range=[df_data[\"date\"].min(), df_data[\"date\"].max()]\n",
    ")\n",
    "fig.show()"
   ]
  },
  {
   "cell_type": "code",
   "execution_count": 22,
   "id": "7abe06b3-ccbd-461e-b99a-daaf8d7831b3",
   "metadata": {},
   "outputs": [
    {
     "data": {
      "text/plain": [
       "91"
      ]
     },
     "execution_count": 22,
     "metadata": {},
     "output_type": "execute_result"
    }
   ],
   "source": [
    "len(df_data['date'].unique())"
   ]
  }
 ],
 "metadata": {
  "kernelspec": {
   "display_name": "Python 3 (ipykernel)",
   "language": "python",
   "name": "python3"
  },
  "language_info": {
   "codemirror_mode": {
    "name": "ipython",
    "version": 3
   },
   "file_extension": ".py",
   "mimetype": "text/x-python",
   "name": "python",
   "nbconvert_exporter": "python",
   "pygments_lexer": "ipython3",
   "version": "3.10.14"
  }
 },
 "nbformat": 4,
 "nbformat_minor": 5
}
